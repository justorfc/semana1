{
  "nbformat": 4,
  "nbformat_minor": 0,
  "metadata": {
    "colab": {
      "provenance": [],
      "authorship_tag": "ABX9TyMAxc7IATZ4xPqJdFT3kf29",
      "include_colab_link": true
    },
    "kernelspec": {
      "name": "python3",
      "display_name": "Python 3"
    },
    "language_info": {
      "name": "python"
    }
  },
  "cells": [
    {
      "cell_type": "markdown",
      "metadata": {
        "id": "view-in-github",
        "colab_type": "text"
      },
      "source": [
        "<a href=\"https://colab.research.google.com/github/justorfc/semana1/blob/main/semana1.ipynb\" target=\"_parent\"><img src=\"https://colab.research.google.com/assets/colab-badge.svg\" alt=\"Open In Colab\"/></a>"
      ]
    },
    {
      "cell_type": "code",
      "execution_count": 4,
      "metadata": {
        "colab": {
          "base_uri": "https://localhost:8080/"
        },
        "id": "KWd82SYz8aAx",
        "outputId": "c703f12d-85f0-4eda-b5ca-8b6c62b1eb1f"
      },
      "outputs": [
        {
          "output_type": "stream",
          "name": "stdout",
          "text": [
            "Datos del Estudiante:\n",
            "Nombre: Juan Pérez\n",
            "Edad: 20 años\n",
            "¿Cuál es tu asignatura favorita? jhghjghjgj\n",
            "¡Qué bien! Tu asignatura favorita es jhghjghjgj.\n"
          ]
        }
      ],
      "source": [
        " # 1. Variables y tipos de datos\n",
        "nombre_estudiante = \"Juan Pérez\"\n",
        "edad = 20\n",
        "promedio = 4.2\n",
        "es_regular = True\n",
        "# 2. La función print() para mostrar información\n",
        "print(\"Datos del Estudiante:\")\n",
        "print(\"Nombre:\", nombre_estudiante)\n",
        "print(f\"Edad: {edad} años\") # Usando f-strings, una forma moderna y útil\n",
        "# 3. La función input() para recibir datos del usuario\n",
        "asignatura_favorita = input(\"¿Cuál es tu asignatura favorita? \")\n",
        "print(f\"¡Qué bien! Tu asignatura favorita es {asignatura_favorita}.\")"
      ]
    },
    {
      "cell_type": "code",
      "source": [
        "# 4. Operaciones aritméticas básicas\n",
        "# Definimos dos variables con números\n",
        "numero1 = 15\n",
        "numero2 = 5\n",
        "\n",
        "# Suma\n",
        "suma = numero1 + numero2\n",
        "print(f\"La suma de {numero1} y {numero2} es: {suma}\")\n",
        "\n",
        "# Resta\n",
        "resta = numero1 - numero2\n",
        "print(f\"La resta de {numero1} y {numero2} es: {resta}\")\n",
        "\n",
        "# Multiplicación\n",
        "multiplicacion = numero1 * numero2\n",
        "print(f\"La multiplicación de {numero1} y {numero2} es: {multiplicacion}\")\n",
        "\n",
        "# División\n",
        "# Es importante verificar que el divisor no sea cero para evitar un error\n",
        "if numero2 != 0:\n",
        "  division = numero1 / numero2\n",
        "  print(f\"La división de {numero1} entre {numero2} es: {division}\")\n",
        "else:\n",
        "  print(\"No se puede dividir por cero.\")"
      ],
      "metadata": {
        "colab": {
          "base_uri": "https://localhost:8080/"
        },
        "id": "wnaUPgVbB83r",
        "outputId": "0b54c6df-9611-403b-c54e-17349285bf27"
      },
      "execution_count": 5,
      "outputs": [
        {
          "output_type": "stream",
          "name": "stdout",
          "text": [
            "La suma de 15 y 5 es: 20\n",
            "La resta de 15 y 5 es: 10\n",
            "La multiplicación de 15 y 5 es: 75\n",
            "La división de 15 entre 5 es: 3.0\n"
          ]
        }
      ]
    }
  ]
}